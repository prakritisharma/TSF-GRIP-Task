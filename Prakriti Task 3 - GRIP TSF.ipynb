{
 "cells": [
  {
   "cell_type": "markdown",
   "metadata": {},
   "source": [
    "## Task 5 for GRIP - TSF\n",
    "\n",
    "### Exploratory Data Analysis - Sports\n",
    "\n",
    "● Perform ‘Exploratory Data Analysis’ on dataset ‘Indian Premier League’ \n",
    "\n",
    "● As a sports analysts, find out the most successful teams, players and factors contributing win or loss of a team. \n",
    "\n",
    "● Suggest teams or players a company should endorse for its products. \n",
    "\n",
    "\n",
    "### Done By\n",
    ">Prakriti Sharma for GRIPMAY21\n",
    "\n",
    "##### Dataset link: https://bit.ly/34SRn3b"
   ]
  },
  {
   "cell_type": "markdown",
   "metadata": {},
   "source": [
    "### Importing Libraries"
   ]
  },
  {
   "cell_type": "code",
   "execution_count": 378,
   "metadata": {},
   "outputs": [],
   "source": [
    "#Importing libraries\n",
    "import numpy as np\n",
    "import matplotlib.pyplot as plt\n",
    "import seaborn as sns\n",
    "import pandas as pd\n",
    "from sklearn import datasets\n",
    "from sklearn import metrics\n",
    "\n",
    "import time\n",
    "import matplotlib\n",
    "import matplotlib.cm as cm\n",
    "import altair as alt\n",
    "import os\n",
    "from tkinter import *\n",
    "from tkinter import ttk\n",
    "from tkinter import messagebox\n",
    "import tkinter as tk\n",
    "from PIL import ImageTk\n",
    "import PIL.Image\n",
    "import gc\n",
    "import re\n",
    "\n",
    "from wordcloud import WordCloud"
   ]
  },
  {
   "cell_type": "code",
   "execution_count": 355,
   "metadata": {},
   "outputs": [
    {
     "data": {
      "text/html": [
       "<div>\n",
       "<style scoped>\n",
       "    .dataframe tbody tr th:only-of-type {\n",
       "        vertical-align: middle;\n",
       "    }\n",
       "\n",
       "    .dataframe tbody tr th {\n",
       "        vertical-align: top;\n",
       "    }\n",
       "\n",
       "    .dataframe thead th {\n",
       "        text-align: right;\n",
       "    }\n",
       "</style>\n",
       "<table border=\"1\" class=\"dataframe\">\n",
       "  <thead>\n",
       "    <tr style=\"text-align: right;\">\n",
       "      <th></th>\n",
       "      <th>id</th>\n",
       "      <th>season</th>\n",
       "      <th>city</th>\n",
       "      <th>date</th>\n",
       "      <th>team1</th>\n",
       "      <th>team2</th>\n",
       "      <th>toss_winner</th>\n",
       "      <th>toss_decision</th>\n",
       "      <th>result</th>\n",
       "      <th>dl_applied</th>\n",
       "      <th>winner</th>\n",
       "      <th>win_by_runs</th>\n",
       "      <th>win_by_wickets</th>\n",
       "      <th>player_of_match</th>\n",
       "      <th>venue</th>\n",
       "      <th>umpire1</th>\n",
       "      <th>umpire2</th>\n",
       "      <th>umpire3</th>\n",
       "    </tr>\n",
       "  </thead>\n",
       "  <tbody>\n",
       "    <tr>\n",
       "      <th>0</th>\n",
       "      <td>1</td>\n",
       "      <td>2017</td>\n",
       "      <td>Hyderabad</td>\n",
       "      <td>2017-04-05</td>\n",
       "      <td>Sunrisers Hyderabad</td>\n",
       "      <td>Royal Challengers Bangalore</td>\n",
       "      <td>Royal Challengers Bangalore</td>\n",
       "      <td>field</td>\n",
       "      <td>normal</td>\n",
       "      <td>0</td>\n",
       "      <td>Sunrisers Hyderabad</td>\n",
       "      <td>35</td>\n",
       "      <td>0</td>\n",
       "      <td>Yuvraj Singh</td>\n",
       "      <td>Rajiv Gandhi International Stadium, Uppal</td>\n",
       "      <td>AY Dandekar</td>\n",
       "      <td>NJ Llong</td>\n",
       "      <td>NaN</td>\n",
       "    </tr>\n",
       "    <tr>\n",
       "      <th>1</th>\n",
       "      <td>2</td>\n",
       "      <td>2017</td>\n",
       "      <td>Pune</td>\n",
       "      <td>2017-04-06</td>\n",
       "      <td>Mumbai Indians</td>\n",
       "      <td>Rising Pune Supergiant</td>\n",
       "      <td>Rising Pune Supergiant</td>\n",
       "      <td>field</td>\n",
       "      <td>normal</td>\n",
       "      <td>0</td>\n",
       "      <td>Rising Pune Supergiant</td>\n",
       "      <td>0</td>\n",
       "      <td>7</td>\n",
       "      <td>SPD Smith</td>\n",
       "      <td>Maharashtra Cricket Association Stadium</td>\n",
       "      <td>A Nand Kishore</td>\n",
       "      <td>S Ravi</td>\n",
       "      <td>NaN</td>\n",
       "    </tr>\n",
       "    <tr>\n",
       "      <th>2</th>\n",
       "      <td>3</td>\n",
       "      <td>2017</td>\n",
       "      <td>Rajkot</td>\n",
       "      <td>2017-04-07</td>\n",
       "      <td>Gujarat Lions</td>\n",
       "      <td>Kolkata Knight Riders</td>\n",
       "      <td>Kolkata Knight Riders</td>\n",
       "      <td>field</td>\n",
       "      <td>normal</td>\n",
       "      <td>0</td>\n",
       "      <td>Kolkata Knight Riders</td>\n",
       "      <td>0</td>\n",
       "      <td>10</td>\n",
       "      <td>CA Lynn</td>\n",
       "      <td>Saurashtra Cricket Association Stadium</td>\n",
       "      <td>Nitin Menon</td>\n",
       "      <td>CK Nandan</td>\n",
       "      <td>NaN</td>\n",
       "    </tr>\n",
       "    <tr>\n",
       "      <th>3</th>\n",
       "      <td>4</td>\n",
       "      <td>2017</td>\n",
       "      <td>Indore</td>\n",
       "      <td>2017-04-08</td>\n",
       "      <td>Rising Pune Supergiant</td>\n",
       "      <td>Kings XI Punjab</td>\n",
       "      <td>Kings XI Punjab</td>\n",
       "      <td>field</td>\n",
       "      <td>normal</td>\n",
       "      <td>0</td>\n",
       "      <td>Kings XI Punjab</td>\n",
       "      <td>0</td>\n",
       "      <td>6</td>\n",
       "      <td>GJ Maxwell</td>\n",
       "      <td>Holkar Cricket Stadium</td>\n",
       "      <td>AK Chaudhary</td>\n",
       "      <td>C Shamshuddin</td>\n",
       "      <td>NaN</td>\n",
       "    </tr>\n",
       "    <tr>\n",
       "      <th>4</th>\n",
       "      <td>5</td>\n",
       "      <td>2017</td>\n",
       "      <td>Bangalore</td>\n",
       "      <td>2017-04-08</td>\n",
       "      <td>Royal Challengers Bangalore</td>\n",
       "      <td>Delhi Daredevils</td>\n",
       "      <td>Royal Challengers Bangalore</td>\n",
       "      <td>bat</td>\n",
       "      <td>normal</td>\n",
       "      <td>0</td>\n",
       "      <td>Royal Challengers Bangalore</td>\n",
       "      <td>15</td>\n",
       "      <td>0</td>\n",
       "      <td>KM Jadhav</td>\n",
       "      <td>M Chinnaswamy Stadium</td>\n",
       "      <td>NaN</td>\n",
       "      <td>NaN</td>\n",
       "      <td>NaN</td>\n",
       "    </tr>\n",
       "  </tbody>\n",
       "</table>\n",
       "</div>"
      ],
      "text/plain": [
       "   id  season       city        date                        team1  \\\n",
       "0   1    2017  Hyderabad  2017-04-05          Sunrisers Hyderabad   \n",
       "1   2    2017       Pune  2017-04-06               Mumbai Indians   \n",
       "2   3    2017     Rajkot  2017-04-07                Gujarat Lions   \n",
       "3   4    2017     Indore  2017-04-08       Rising Pune Supergiant   \n",
       "4   5    2017  Bangalore  2017-04-08  Royal Challengers Bangalore   \n",
       "\n",
       "                         team2                  toss_winner toss_decision  \\\n",
       "0  Royal Challengers Bangalore  Royal Challengers Bangalore         field   \n",
       "1       Rising Pune Supergiant       Rising Pune Supergiant         field   \n",
       "2        Kolkata Knight Riders        Kolkata Knight Riders         field   \n",
       "3              Kings XI Punjab              Kings XI Punjab         field   \n",
       "4             Delhi Daredevils  Royal Challengers Bangalore           bat   \n",
       "\n",
       "   result  dl_applied                       winner  win_by_runs  \\\n",
       "0  normal           0          Sunrisers Hyderabad           35   \n",
       "1  normal           0       Rising Pune Supergiant            0   \n",
       "2  normal           0        Kolkata Knight Riders            0   \n",
       "3  normal           0              Kings XI Punjab            0   \n",
       "4  normal           0  Royal Challengers Bangalore           15   \n",
       "\n",
       "   win_by_wickets player_of_match                                      venue  \\\n",
       "0               0    Yuvraj Singh  Rajiv Gandhi International Stadium, Uppal   \n",
       "1               7       SPD Smith    Maharashtra Cricket Association Stadium   \n",
       "2              10         CA Lynn     Saurashtra Cricket Association Stadium   \n",
       "3               6      GJ Maxwell                     Holkar Cricket Stadium   \n",
       "4               0       KM Jadhav                      M Chinnaswamy Stadium   \n",
       "\n",
       "          umpire1        umpire2 umpire3  \n",
       "0     AY Dandekar       NJ Llong     NaN  \n",
       "1  A Nand Kishore         S Ravi     NaN  \n",
       "2     Nitin Menon      CK Nandan     NaN  \n",
       "3    AK Chaudhary  C Shamshuddin     NaN  \n",
       "4             NaN            NaN     NaN  "
      ]
     },
     "execution_count": 355,
     "metadata": {},
     "output_type": "execute_result"
    }
   ],
   "source": [
    "mdf = pd.read_csv('matches.csv')\n",
    "mdf.head()"
   ]
  },
  {
   "cell_type": "code",
   "execution_count": 356,
   "metadata": {},
   "outputs": [
    {
     "data": {
      "text/html": [
       "<div>\n",
       "<style scoped>\n",
       "    .dataframe tbody tr th:only-of-type {\n",
       "        vertical-align: middle;\n",
       "    }\n",
       "\n",
       "    .dataframe tbody tr th {\n",
       "        vertical-align: top;\n",
       "    }\n",
       "\n",
       "    .dataframe thead th {\n",
       "        text-align: right;\n",
       "    }\n",
       "</style>\n",
       "<table border=\"1\" class=\"dataframe\">\n",
       "  <thead>\n",
       "    <tr style=\"text-align: right;\">\n",
       "      <th></th>\n",
       "      <th>match_id</th>\n",
       "      <th>inning</th>\n",
       "      <th>batting_team</th>\n",
       "      <th>bowling_team</th>\n",
       "      <th>over</th>\n",
       "      <th>ball</th>\n",
       "      <th>batsman</th>\n",
       "      <th>non_striker</th>\n",
       "      <th>bowler</th>\n",
       "      <th>is_super_over</th>\n",
       "      <th>...</th>\n",
       "      <th>bye_runs</th>\n",
       "      <th>legbye_runs</th>\n",
       "      <th>noball_runs</th>\n",
       "      <th>penalty_runs</th>\n",
       "      <th>batsman_runs</th>\n",
       "      <th>extra_runs</th>\n",
       "      <th>total_runs</th>\n",
       "      <th>player_dismissed</th>\n",
       "      <th>dismissal_kind</th>\n",
       "      <th>fielder</th>\n",
       "    </tr>\n",
       "  </thead>\n",
       "  <tbody>\n",
       "    <tr>\n",
       "      <th>0</th>\n",
       "      <td>1</td>\n",
       "      <td>1</td>\n",
       "      <td>Sunrisers Hyderabad</td>\n",
       "      <td>Royal Challengers Bangalore</td>\n",
       "      <td>1</td>\n",
       "      <td>1</td>\n",
       "      <td>DA Warner</td>\n",
       "      <td>S Dhawan</td>\n",
       "      <td>TS Mills</td>\n",
       "      <td>0</td>\n",
       "      <td>...</td>\n",
       "      <td>0</td>\n",
       "      <td>0</td>\n",
       "      <td>0</td>\n",
       "      <td>0</td>\n",
       "      <td>0</td>\n",
       "      <td>0</td>\n",
       "      <td>0</td>\n",
       "      <td>NaN</td>\n",
       "      <td>NaN</td>\n",
       "      <td>NaN</td>\n",
       "    </tr>\n",
       "    <tr>\n",
       "      <th>1</th>\n",
       "      <td>1</td>\n",
       "      <td>1</td>\n",
       "      <td>Sunrisers Hyderabad</td>\n",
       "      <td>Royal Challengers Bangalore</td>\n",
       "      <td>1</td>\n",
       "      <td>2</td>\n",
       "      <td>DA Warner</td>\n",
       "      <td>S Dhawan</td>\n",
       "      <td>TS Mills</td>\n",
       "      <td>0</td>\n",
       "      <td>...</td>\n",
       "      <td>0</td>\n",
       "      <td>0</td>\n",
       "      <td>0</td>\n",
       "      <td>0</td>\n",
       "      <td>0</td>\n",
       "      <td>0</td>\n",
       "      <td>0</td>\n",
       "      <td>NaN</td>\n",
       "      <td>NaN</td>\n",
       "      <td>NaN</td>\n",
       "    </tr>\n",
       "    <tr>\n",
       "      <th>2</th>\n",
       "      <td>1</td>\n",
       "      <td>1</td>\n",
       "      <td>Sunrisers Hyderabad</td>\n",
       "      <td>Royal Challengers Bangalore</td>\n",
       "      <td>1</td>\n",
       "      <td>3</td>\n",
       "      <td>DA Warner</td>\n",
       "      <td>S Dhawan</td>\n",
       "      <td>TS Mills</td>\n",
       "      <td>0</td>\n",
       "      <td>...</td>\n",
       "      <td>0</td>\n",
       "      <td>0</td>\n",
       "      <td>0</td>\n",
       "      <td>0</td>\n",
       "      <td>4</td>\n",
       "      <td>0</td>\n",
       "      <td>4</td>\n",
       "      <td>NaN</td>\n",
       "      <td>NaN</td>\n",
       "      <td>NaN</td>\n",
       "    </tr>\n",
       "    <tr>\n",
       "      <th>3</th>\n",
       "      <td>1</td>\n",
       "      <td>1</td>\n",
       "      <td>Sunrisers Hyderabad</td>\n",
       "      <td>Royal Challengers Bangalore</td>\n",
       "      <td>1</td>\n",
       "      <td>4</td>\n",
       "      <td>DA Warner</td>\n",
       "      <td>S Dhawan</td>\n",
       "      <td>TS Mills</td>\n",
       "      <td>0</td>\n",
       "      <td>...</td>\n",
       "      <td>0</td>\n",
       "      <td>0</td>\n",
       "      <td>0</td>\n",
       "      <td>0</td>\n",
       "      <td>0</td>\n",
       "      <td>0</td>\n",
       "      <td>0</td>\n",
       "      <td>NaN</td>\n",
       "      <td>NaN</td>\n",
       "      <td>NaN</td>\n",
       "    </tr>\n",
       "    <tr>\n",
       "      <th>4</th>\n",
       "      <td>1</td>\n",
       "      <td>1</td>\n",
       "      <td>Sunrisers Hyderabad</td>\n",
       "      <td>Royal Challengers Bangalore</td>\n",
       "      <td>1</td>\n",
       "      <td>5</td>\n",
       "      <td>DA Warner</td>\n",
       "      <td>S Dhawan</td>\n",
       "      <td>TS Mills</td>\n",
       "      <td>0</td>\n",
       "      <td>...</td>\n",
       "      <td>0</td>\n",
       "      <td>0</td>\n",
       "      <td>0</td>\n",
       "      <td>0</td>\n",
       "      <td>0</td>\n",
       "      <td>2</td>\n",
       "      <td>2</td>\n",
       "      <td>NaN</td>\n",
       "      <td>NaN</td>\n",
       "      <td>NaN</td>\n",
       "    </tr>\n",
       "  </tbody>\n",
       "</table>\n",
       "<p>5 rows × 21 columns</p>\n",
       "</div>"
      ],
      "text/plain": [
       "   match_id  inning         batting_team                 bowling_team  over  \\\n",
       "0         1       1  Sunrisers Hyderabad  Royal Challengers Bangalore     1   \n",
       "1         1       1  Sunrisers Hyderabad  Royal Challengers Bangalore     1   \n",
       "2         1       1  Sunrisers Hyderabad  Royal Challengers Bangalore     1   \n",
       "3         1       1  Sunrisers Hyderabad  Royal Challengers Bangalore     1   \n",
       "4         1       1  Sunrisers Hyderabad  Royal Challengers Bangalore     1   \n",
       "\n",
       "   ball    batsman non_striker    bowler  is_super_over  ...  bye_runs  \\\n",
       "0     1  DA Warner    S Dhawan  TS Mills              0  ...         0   \n",
       "1     2  DA Warner    S Dhawan  TS Mills              0  ...         0   \n",
       "2     3  DA Warner    S Dhawan  TS Mills              0  ...         0   \n",
       "3     4  DA Warner    S Dhawan  TS Mills              0  ...         0   \n",
       "4     5  DA Warner    S Dhawan  TS Mills              0  ...         0   \n",
       "\n",
       "   legbye_runs  noball_runs  penalty_runs  batsman_runs  extra_runs  \\\n",
       "0            0            0             0             0           0   \n",
       "1            0            0             0             0           0   \n",
       "2            0            0             0             4           0   \n",
       "3            0            0             0             0           0   \n",
       "4            0            0             0             0           2   \n",
       "\n",
       "   total_runs  player_dismissed dismissal_kind fielder  \n",
       "0           0               NaN            NaN     NaN  \n",
       "1           0               NaN            NaN     NaN  \n",
       "2           4               NaN            NaN     NaN  \n",
       "3           0               NaN            NaN     NaN  \n",
       "4           2               NaN            NaN     NaN  \n",
       "\n",
       "[5 rows x 21 columns]"
      ]
     },
     "execution_count": 356,
     "metadata": {},
     "output_type": "execute_result"
    }
   ],
   "source": [
    "ddf = pd.read_csv('deliveries.csv')\n",
    "ddf.head()"
   ]
  },
  {
   "cell_type": "markdown",
   "metadata": {},
   "source": [
    "### Data Cleaning"
   ]
  },
  {
   "cell_type": "code",
   "execution_count": 357,
   "metadata": {},
   "outputs": [],
   "source": [
    "#Data Cleaning\n",
    "ddf.dropna(axis=0, how='any',inplace=True)\n",
    "mdf.dropna(axis=0, how='any',inplace=True)"
   ]
  },
  {
   "cell_type": "markdown",
   "metadata": {},
   "source": [
    "### Exploratory Data Analysis"
   ]
  },
  {
   "cell_type": "code",
   "execution_count": 358,
   "metadata": {},
   "outputs": [
    {
     "name": "stdout",
     "output_type": "stream",
     "text": [
      "<class 'pandas.core.frame.DataFrame'>\n",
      "Int64Index: 6448 entries, 11 to 179075\n",
      "Data columns (total 21 columns):\n",
      "match_id            6448 non-null int64\n",
      "inning              6448 non-null int64\n",
      "batting_team        6448 non-null object\n",
      "bowling_team        6448 non-null object\n",
      "over                6448 non-null int64\n",
      "ball                6448 non-null int64\n",
      "batsman             6448 non-null object\n",
      "non_striker         6448 non-null object\n",
      "bowler              6448 non-null object\n",
      "is_super_over       6448 non-null int64\n",
      "wide_runs           6448 non-null int64\n",
      "bye_runs            6448 non-null int64\n",
      "legbye_runs         6448 non-null int64\n",
      "noball_runs         6448 non-null int64\n",
      "penalty_runs        6448 non-null int64\n",
      "batsman_runs        6448 non-null int64\n",
      "extra_runs          6448 non-null int64\n",
      "total_runs          6448 non-null int64\n",
      "player_dismissed    6448 non-null object\n",
      "dismissal_kind      6448 non-null object\n",
      "fielder             6448 non-null object\n",
      "dtypes: int64(13), object(8)\n",
      "memory usage: 1.1+ MB\n"
     ]
    }
   ],
   "source": [
    "ddf.info()"
   ]
  },
  {
   "cell_type": "code",
   "execution_count": 359,
   "metadata": {},
   "outputs": [
    {
     "name": "stdout",
     "output_type": "stream",
     "text": [
      "<class 'pandas.core.frame.DataFrame'>\n",
      "Int64Index: 118 entries, 636 to 755\n",
      "Data columns (total 18 columns):\n",
      "id                 118 non-null int64\n",
      "season             118 non-null int64\n",
      "city               118 non-null object\n",
      "date               118 non-null object\n",
      "team1              118 non-null object\n",
      "team2              118 non-null object\n",
      "toss_winner        118 non-null object\n",
      "toss_decision      118 non-null object\n",
      "result             118 non-null object\n",
      "dl_applied         118 non-null int64\n",
      "winner             118 non-null object\n",
      "win_by_runs        118 non-null int64\n",
      "win_by_wickets     118 non-null int64\n",
      "player_of_match    118 non-null object\n",
      "venue              118 non-null object\n",
      "umpire1            118 non-null object\n",
      "umpire2            118 non-null object\n",
      "umpire3            118 non-null object\n",
      "dtypes: int64(5), object(13)\n",
      "memory usage: 17.5+ KB\n"
     ]
    }
   ],
   "source": [
    "mdf.info()"
   ]
  },
  {
   "cell_type": "code",
   "execution_count": 360,
   "metadata": {},
   "outputs": [
    {
     "data": {
      "image/png": "[encoded data removed]",
      "text/plain": [
       "<Figure size 1152x720 with 2 Axes>"
      ]
     },
     "metadata": {},
     "output_type": "display_data"
    }
   ],
   "source": [
    "plt.figure(figsize = (16, 10))\n",
    "sns.heatmap(ddf.corr(), annot = True, cmap=\"YlGnBu\")\n",
    "plt.show()"
   ]
  },
  {
   "cell_type": "markdown",
   "metadata": {},
   "source": [
    "Here, we can see that features 'bye_runs' and 'penalty_runs' have no correlation with any of the features (hence, the discoloured area). So we delete these two features in the next statement."
   ]
  },
  {
   "cell_type": "code",
   "execution_count": 361,
   "metadata": {},
   "outputs": [],
   "source": [
    "ddf = ddf.drop(['bye_runs','penalty_runs'], axis = 1)"
   ]
  },
  {
   "cell_type": "markdown",
   "metadata": {},
   "source": [
    "##### Since both the dataframes have a common column for match_id, we merge both dataframes on that column."
   ]
  },
  {
   "cell_type": "code",
   "execution_count": 362,
   "metadata": {},
   "outputs": [],
   "source": [
    "#merging both the dataframes\n",
    "df = pd.merge(mdf, ddf, left_on='id', right_on='match_id')"
   ]
  },
  {
   "cell_type": "code",
   "execution_count": 363,
   "metadata": {},
   "outputs": [],
   "source": [
    "#finding which player won the 'Player of Match' title, how many times.\n",
    "pom = pd.DataFrame(mdf.player_of_match.value_counts())"
   ]
  },
  {
   "cell_type": "code",
   "execution_count": 364,
   "metadata": {},
   "outputs": [
    {
     "data": {
      "text/plain": [
       "id                  False\n",
       "season              False\n",
       "city                False\n",
       "date                False\n",
       "team1               False\n",
       "team2               False\n",
       "toss_winner         False\n",
       "toss_decision       False\n",
       "result              False\n",
       "dl_applied          False\n",
       "winner              False\n",
       "win_by_runs         False\n",
       "win_by_wickets      False\n",
       "player_of_match     False\n",
       "venue               False\n",
       "umpire1             False\n",
       "umpire2             False\n",
       "umpire3             False\n",
       "match_id            False\n",
       "inning              False\n",
       "batting_team        False\n",
       "bowling_team        False\n",
       "over                False\n",
       "ball                False\n",
       "batsman             False\n",
       "non_striker         False\n",
       "bowler              False\n",
       "is_super_over       False\n",
       "wide_runs           False\n",
       "legbye_runs         False\n",
       "noball_runs         False\n",
       "batsman_runs        False\n",
       "extra_runs          False\n",
       "total_runs          False\n",
       "player_dismissed    False\n",
       "dismissal_kind      False\n",
       "fielder             False\n",
       "dtype: bool"
      ]
     },
     "execution_count": 364,
     "metadata": {},
     "output_type": "execute_result"
    }
   ],
   "source": [
    "#checking for null values\n",
    "df.isnull().any()"
   ]
  },
  {
   "cell_type": "markdown",
   "metadata": {},
   "source": [
    "##### Checking for categorical data variables, for further analysis."
   ]
  },
  {
   "cell_type": "code",
   "execution_count": 365,
   "metadata": {},
   "outputs": [
    {
     "data": {
      "text/plain": [
       "2018    60\n",
       "2019    58\n",
       "Name: season, dtype: int64"
      ]
     },
     "execution_count": 365,
     "metadata": {},
     "output_type": "execute_result"
    }
   ],
   "source": [
    "mdf.season.value_counts()"
   ]
  },
  {
   "cell_type": "code",
   "execution_count": 366,
   "metadata": {},
   "outputs": [
    {
     "data": {
      "text/plain": [
       "normal    116\n",
       "tie         2\n",
       "Name: result, dtype: int64"
      ]
     },
     "execution_count": 366,
     "metadata": {},
     "output_type": "execute_result"
    }
   ],
   "source": [
    "mdf.result.value_counts()"
   ]
  },
  {
   "cell_type": "code",
   "execution_count": 367,
   "metadata": {},
   "outputs": [
    {
     "data": {
      "text/plain": [
       "0    115\n",
       "1      3\n",
       "Name: dl_applied, dtype: int64"
      ]
     },
     "execution_count": 367,
     "metadata": {},
     "output_type": "execute_result"
    }
   ],
   "source": [
    "mdf.dl_applied.value_counts()"
   ]
  },
  {
   "cell_type": "code",
   "execution_count": 368,
   "metadata": {},
   "outputs": [
    {
     "data": {
      "text/plain": [
       "Chennai Super Kings            23\n",
       "Rajasthan Royals               16\n",
       "Kolkata Knight Riders          14\n",
       "Kings XI Punjab                13\n",
       "Mumbai Indians                 13\n",
       "Sunrisers Hyderabad            11\n",
       "Royal Challengers Bangalore    11\n",
       "Delhi Capitals                  9\n",
       "Delhi Daredevils                8\n",
       "Name: toss_winner, dtype: int64"
      ]
     },
     "execution_count": 368,
     "metadata": {},
     "output_type": "execute_result"
    }
   ],
   "source": [
    "mdf.toss_winner.value_counts()"
   ]
  },
  {
   "cell_type": "code",
   "execution_count": 369,
   "metadata": {},
   "outputs": [
    {
     "data": {
      "text/plain": [
       "field    98\n",
       "bat      20\n",
       "Name: toss_decision, dtype: int64"
      ]
     },
     "execution_count": 369,
     "metadata": {},
     "output_type": "execute_result"
    }
   ],
   "source": [
    "mdf.toss_decision.value_counts()"
   ]
  },
  {
   "cell_type": "code",
   "execution_count": 370,
   "metadata": {},
   "outputs": [
    {
     "data": {
      "text/plain": [
       "True     67\n",
       "False    51\n",
       "Name: toss, dtype: int64"
      ]
     },
     "execution_count": 370,
     "metadata": {},
     "output_type": "execute_result"
    }
   ],
   "source": [
    "mdf['toss'] = mdf['toss_winner']==mdf['winner']\n",
    "mdf.toss.value_counts()"
   ]
  },
  {
   "cell_type": "markdown",
   "metadata": {},
   "source": [
    "## Most Successful Teams"
   ]
  },
  {
   "cell_type": "code",
   "execution_count": 371,
   "metadata": {},
   "outputs": [],
   "source": [
    "###most successful teams\n",
    "def team():\n",
    "    plt.figure(figsize=(10,10))\n",
    "    plt.xticks([5,8,11,14,17,21])\n",
    "    ax = sns.countplot(y='winner', data=mdf, orient='h', palette = 'plasma',order=mdf.winner.value_counts().index)\n",
    "    plt.xlabel('Wins', weight = 'bold', fontsize = 13)\n",
    "    plt.title (\"Number of matches won Team-wise\", fontsize = 15, weight = 'bold')\n",
    "    plt.ylabel('Teams', weight = 'bold', fontsize = 13)\n",
    "    mng = plt.get_current_fig_manager()\n",
    "    plt.show(block=False)\n",
    "    mng.full_screen_toggle()\n",
    "    plt.tight_layout()\n",
    "    plt.show(block=False)\n",
    "    plt.pause(5)\n",
    "    plt.close()"
   ]
  },
  {
   "cell_type": "markdown",
   "metadata": {},
   "source": [
    "## Best Players"
   ]
  },
  {
   "cell_type": "code",
   "execution_count": 372,
   "metadata": {},
   "outputs": [],
   "source": [
    "### best players\n",
    "pom = pom.loc[pom['player_of_match'] > 2]\n",
    "def play():    \n",
    "    x = list(pom.index)\n",
    "    y = list(pom['player_of_match'])\n",
    "\n",
    "    plt.figure(figsize = (16,5))\n",
    "    sns.barplot(x,y, palette = 'rainbow')\n",
    "    mng = plt.get_current_fig_manager()\n",
    "    mng.full_screen_toggle()\n",
    "    plt.tight_layout()\n",
    "    plt.show(block=False)\n",
    "    plt.pause(5)\n",
    "    plt.close()"
   ]
  },
  {
   "cell_type": "markdown",
   "metadata": {},
   "source": [
    "## Factors contributing to win"
   ]
  },
  {
   "cell_type": "code",
   "execution_count": 373,
   "metadata": {},
   "outputs": [],
   "source": [
    "def fact():\n",
    "    #factor1\n",
    "    plt.figure(figsize = (16, 10))\n",
    "    sns.heatmap(ddf.corr(), annot = True, cmap=\"Blues\")\n",
    "    plt.title(\"Correlation of all features in deliveries.csv\", weight = 'bold', fontsize = 16)\n",
    "    mng = plt.get_current_fig_manager()\n",
    "    mng.full_screen_toggle()\n",
    "    plt.tight_layout()\n",
    "    plt.show(block=False)\n",
    "    plt.pause(5)\n",
    "    plt.close()\n",
    "    \n",
    "    ###factors 2\n",
    "    plt.figure(figsize=(6,6))\n",
    "    space = [0.1,0.12]\n",
    "    mdf['toss'].value_counts().plot(kind='pie', explode=space, fontsize=10,autopct='%1.1f%%', colors = ['skyblue', 'salmon'])\n",
    "    plt.ylabel('')\n",
    "    plt.title('Team that Won the Toss wins the match', weight = 'bold', fontsize=15)\n",
    "    mng = plt.get_current_fig_manager()\n",
    "    mng.full_screen_toggle()\n",
    "    plt.tight_layout()\n",
    "    plt.show(block=False)\n",
    "    plt.pause(5)\n",
    "    plt.close()\n",
    "    \n",
    "    ###factor 3\n",
    "    x = mdf.loc[mdf['toss_decision'] == 'field']\n",
    "    plt.figure(figsize=(6,6))\n",
    "    space = [0.1,0.12]\n",
    "    x['toss'].value_counts().plot(kind='pie', explode=space, fontsize=10,autopct='%1.1f%%', colors = ['purple', 'yellow'])\n",
    "    plt.ylabel('')\n",
    "    plt.title('Team that Won the Toss and chose to field, won', weight = 'bold', fontsize=15)\n",
    "    mng = plt.get_current_fig_manager()\n",
    "    mng.full_screen_toggle()\n",
    "    plt.tight_layout()\n",
    "    plt.show(block=False)\n",
    "    plt.pause(5)\n",
    "    plt.close()\n",
    "    \n",
    "    ###factor 4\n",
    "    x = mdf.loc[mdf['toss_decision'] == 'bat']\n",
    "    plt.figure(figsize=(6,6))\n",
    "    space = [0.1,0.12]\n",
    "    x['toss'].value_counts().plot(kind='pie', explode=space, fontsize=10,autopct='%1.1f%%', colors = ['cyan', 'red'])\n",
    "    plt.ylabel('')\n",
    "    plt.title('Team that Won the Toss and chose to bat, won', weight = 'bold', fontsize=15)\n",
    "    mng = plt.get_current_fig_manager()\n",
    "    mng.full_screen_toggle()\n",
    "    plt.tight_layout()\n",
    "    plt.show(block=False)\n",
    "    plt.pause(5)\n",
    "    plt.close()\n",
    "    \n",
    "    ###factor 5\n",
    "    plt.figure(figsize=(10,6))\n",
    "    mdf['city'].value_counts().plot(kind='bar', fontsize=10, cmap = 'Set2')\n",
    "    plt.xticks(rotation = 15)\n",
    "    plt.xlabel('')\n",
    "    plt.ylabel('Total Wins', weight = 'bold')\n",
    "    plt.title('Depending on cities the matches were played in', weight = 'bold', fontsize=15)\n",
    "    mng = plt.get_current_fig_manager()\n",
    "    mng.full_screen_toggle()\n",
    "    plt.tight_layout()\n",
    "    plt.show(block=False)\n",
    "    plt.pause(5)\n",
    "    plt.close()"
   ]
  },
  {
   "cell_type": "markdown",
   "metadata": {},
   "source": [
    "### Team Analysis"
   ]
  },
  {
   "cell_type": "code",
   "execution_count": 374,
   "metadata": {},
   "outputs": [],
   "source": [
    "def study():\n",
    "    ###analysis1\n",
    "    plt.figure(figsize=(10,6))\n",
    "    plt.bar(df['over'], df['batsman_runs'], color = 'maroon')\n",
    "    plt.xticks(rotation = 15)\n",
    "    plt.ylabel('Batsman runs')\n",
    "    plt.title('Overs vs Batsman Runs', weight = 'bold', fontsize=15)\n",
    "    mng = plt.get_current_fig_manager()\n",
    "    mng.full_screen_toggle()\n",
    "    plt.tight_layout()\n",
    "    plt.show(block=False)\n",
    "    plt.pause(5)\n",
    "    plt.close()\n",
    "    \n",
    "    ###analysis2\n",
    "    plt.figure(figsize=(16,6))\n",
    "    plt.bar(df['batting_team'], df['batsman_runs'], color = 'deepskyblue')\n",
    "    plt.xticks(rotation = 15)\n",
    "    plt.ylabel('Batsman runs')\n",
    "    plt.title('Batting Team vs Batsman Runs', weight = 'bold', fontsize=15)\n",
    "    mng = plt.get_current_fig_manager()\n",
    "    mng.full_screen_toggle()\n",
    "    plt.tight_layout()\n",
    "    plt.show(block=False)\n",
    "    plt.pause(5)\n",
    "    plt.close()\n",
    "    \n",
    "    ###analysis3\n",
    "    plt.figure(figsize=(16,6))\n",
    "    plt.bar(df['bowling_team'], df['player_dismissed'].count(), color = 'darkgreen')\n",
    "    plt.xticks(rotation = 15)\n",
    "    plt.ylabel('Players Dismissed')\n",
    "    plt.yticks([800,900,1000,1100,1200])\n",
    "    plt.title('Bowling Team vs Player Dismissed', weight = 'bold', fontsize=15)\n",
    "    mng = plt.get_current_fig_manager()\n",
    "    mng.full_screen_toggle()\n",
    "    plt.tight_layout()\n",
    "    plt.show(block=False)\n",
    "    plt.pause(5)\n",
    "    plt.close()\n",
    "    \n",
    "    ###analysis4\n",
    "    plt.figure(figsize=(16,6))\n",
    "    plt.bar(df['bowling_team'], df['batsman_runs'], color = 'blueviolet')\n",
    "    plt.xticks(rotation = 15)\n",
    "    plt.ylabel('Batsman runs')\n",
    "    plt.title('Bowling Team vs Batsman Runs', weight = 'bold', fontsize=15)\n",
    "    mng = plt.get_current_fig_manager()\n",
    "    mng.full_screen_toggle()\n",
    "    plt.tight_layout()\n",
    "    plt.show(block=False)\n",
    "    plt.pause(5)\n",
    "    plt.close()"
   ]
  },
  {
   "cell_type": "markdown",
   "metadata": {},
   "source": [
    "### Designing the Dashboard"
   ]
  },
  {
   "cell_type": "code",
   "execution_count": 380,
   "metadata": {},
   "outputs": [
    {
     "ename": "TclError",
     "evalue": "image \"pyimage2\" doesn't exist",
     "output_type": "error",
     "traceback": [
      "\u001b[1;31m---------------------------------------------------------------------------\u001b[0m",
      "\u001b[1;31mTclError\u001b[0m                                  Traceback (most recent call last)",
      "\u001b[1;32m<ipython-input-380-3805729b33f3>\u001b[0m in \u001b[0;36m<module>\u001b[1;34m\u001b[0m\n\u001b[0;32m     72\u001b[0m \u001b[1;32mfrom\u001b[0m \u001b[0mtkinter\u001b[0m \u001b[1;32mimport\u001b[0m \u001b[0mTk\u001b[0m\u001b[1;33m,\u001b[0m \u001b[0mButton\u001b[0m\u001b[1;33m,\u001b[0m \u001b[0mEntry\u001b[0m\u001b[1;33m,\u001b[0m \u001b[0mLabel\u001b[0m\u001b[1;33m\u001b[0m\u001b[1;33m\u001b[0m\u001b[0m\n\u001b[0;32m     73\u001b[0m \u001b[0mroot\u001b[0m \u001b[1;33m=\u001b[0m \u001b[0mTk\u001b[0m\u001b[1;33m(\u001b[0m\u001b[1;33m)\u001b[0m\u001b[1;33m\u001b[0m\u001b[1;33m\u001b[0m\u001b[0m\n\u001b[1;32m---> 74\u001b[1;33m \u001b[0mexecute\u001b[0m\u001b[1;33m(\u001b[0m\u001b[1;33m)\u001b[0m\u001b[1;33m\u001b[0m\u001b[1;33m\u001b[0m\u001b[0m\n\u001b[0m\u001b[0;32m     75\u001b[0m \u001b[0mroot\u001b[0m\u001b[1;33m.\u001b[0m\u001b[0mmainloop\u001b[0m\u001b[1;33m(\u001b[0m\u001b[1;33m)\u001b[0m\u001b[1;33m\u001b[0m\u001b[1;33m\u001b[0m\u001b[0m\n",
      "\u001b[1;32m<ipython-input-380-3805729b33f3>\u001b[0m in \u001b[0;36mexecute\u001b[1;34m()\u001b[0m\n\u001b[0;32m     36\u001b[0m     \u001b[0mimgbtn1\u001b[0m \u001b[1;33m=\u001b[0m \u001b[0mImageTk\u001b[0m\u001b[1;33m.\u001b[0m\u001b[0mPhotoImage\u001b[0m\u001b[1;33m(\u001b[0m\u001b[0mimg1\u001b[0m\u001b[1;33m)\u001b[0m\u001b[1;33m\u001b[0m\u001b[1;33m\u001b[0m\u001b[0m\n\u001b[0;32m     37\u001b[0m     \u001b[0mlab1\u001b[0m \u001b[1;33m=\u001b[0m \u001b[0mLabel\u001b[0m\u001b[1;33m(\u001b[0m\u001b[0mmaster\u001b[0m \u001b[1;33m=\u001b[0m \u001b[0mroot\u001b[0m\u001b[1;33m,\u001b[0m \u001b[0mtext\u001b[0m \u001b[1;33m=\u001b[0m \u001b[1;34m'Best Team'\u001b[0m\u001b[1;33m,\u001b[0m \u001b[0mbg\u001b[0m \u001b[1;33m=\u001b[0m \u001b[1;34m\"salmon\"\u001b[0m\u001b[1;33m,\u001b[0m \u001b[0mfont\u001b[0m \u001b[1;33m=\u001b[0m \u001b[1;33m(\u001b[0m\u001b[1;34m'Veranda'\u001b[0m\u001b[1;33m,\u001b[0m \u001b[1;36m9\u001b[0m\u001b[1;33m)\u001b[0m\u001b[1;33m,\u001b[0m \u001b[0mborderwidth\u001b[0m \u001b[1;33m=\u001b[0m \u001b[1;36m2\u001b[0m\u001b[1;33m)\u001b[0m\u001b[1;33m.\u001b[0m\u001b[0mgrid\u001b[0m\u001b[1;33m(\u001b[0m\u001b[0mrow\u001b[0m \u001b[1;33m=\u001b[0m \u001b[1;36m1\u001b[0m\u001b[1;33m,\u001b[0m \u001b[0mcolumn\u001b[0m \u001b[1;33m=\u001b[0m \u001b[1;36m0\u001b[0m\u001b[1;33m)\u001b[0m\u001b[1;33m\u001b[0m\u001b[1;33m\u001b[0m\u001b[0m\n\u001b[1;32m---> 38\u001b[1;33m     \u001b[0mb1\u001b[0m \u001b[1;33m=\u001b[0m \u001b[0mButton\u001b[0m\u001b[1;33m(\u001b[0m\u001b[0mmaster\u001b[0m \u001b[1;33m=\u001b[0m \u001b[0mroot\u001b[0m\u001b[1;33m,\u001b[0m \u001b[0mimage\u001b[0m \u001b[1;33m=\u001b[0m \u001b[0mimgbtn1\u001b[0m\u001b[1;33m,\u001b[0m \u001b[0mcompound\u001b[0m \u001b[1;33m=\u001b[0m \u001b[0mTOP\u001b[0m\u001b[1;33m,\u001b[0m \u001b[0mbg\u001b[0m \u001b[1;33m=\u001b[0m \u001b[1;34m\"black\"\u001b[0m\u001b[1;33m,\u001b[0m\u001b[0mcommand\u001b[0m\u001b[1;33m=\u001b[0m\u001b[0mteam\u001b[0m\u001b[1;33m)\u001b[0m\u001b[1;33m\u001b[0m\u001b[1;33m\u001b[0m\u001b[0m\n\u001b[0m\u001b[0;32m     39\u001b[0m     \u001b[0mb1\u001b[0m\u001b[1;33m.\u001b[0m\u001b[0mimage\u001b[0m \u001b[1;33m=\u001b[0m \u001b[0mimgbtn1\u001b[0m\u001b[1;33m\u001b[0m\u001b[1;33m\u001b[0m\u001b[0m\n\u001b[0;32m     40\u001b[0m     \u001b[0mb1\u001b[0m\u001b[1;33m.\u001b[0m\u001b[0mgrid\u001b[0m\u001b[1;33m(\u001b[0m\u001b[0mrow\u001b[0m\u001b[1;33m=\u001b[0m\u001b[1;36m2\u001b[0m\u001b[1;33m,\u001b[0m\u001b[0mcolumn\u001b[0m\u001b[1;33m=\u001b[0m\u001b[1;36m0\u001b[0m\u001b[1;33m,\u001b[0m \u001b[0mpady\u001b[0m \u001b[1;33m=\u001b[0m \u001b[1;36m20\u001b[0m\u001b[1;33m,\u001b[0m \u001b[0mpadx\u001b[0m \u001b[1;33m=\u001b[0m \u001b[1;36m20\u001b[0m\u001b[1;33m)\u001b[0m\u001b[1;33m\u001b[0m\u001b[1;33m\u001b[0m\u001b[0m\n",
      "\u001b[1;32mC:\\ProgramData\\Anaconda3\\lib\\tkinter\\__init__.py\u001b[0m in \u001b[0;36m__init__\u001b[1;34m(self, master, cnf, **kw)\u001b[0m\n\u001b[0;32m   2367\u001b[0m             \u001b[0moverrelief\u001b[0m\u001b[1;33m,\u001b[0m \u001b[0mstate\u001b[0m\u001b[1;33m,\u001b[0m \u001b[0mwidth\u001b[0m\u001b[1;33m\u001b[0m\u001b[1;33m\u001b[0m\u001b[0m\n\u001b[0;32m   2368\u001b[0m         \"\"\"\n\u001b[1;32m-> 2369\u001b[1;33m         \u001b[0mWidget\u001b[0m\u001b[1;33m.\u001b[0m\u001b[0m__init__\u001b[0m\u001b[1;33m(\u001b[0m\u001b[0mself\u001b[0m\u001b[1;33m,\u001b[0m \u001b[0mmaster\u001b[0m\u001b[1;33m,\u001b[0m \u001b[1;34m'button'\u001b[0m\u001b[1;33m,\u001b[0m \u001b[0mcnf\u001b[0m\u001b[1;33m,\u001b[0m \u001b[0mkw\u001b[0m\u001b[1;33m)\u001b[0m\u001b[1;33m\u001b[0m\u001b[1;33m\u001b[0m\u001b[0m\n\u001b[0m\u001b[0;32m   2370\u001b[0m \u001b[1;33m\u001b[0m\u001b[0m\n\u001b[0;32m   2371\u001b[0m     \u001b[1;32mdef\u001b[0m \u001b[0mflash\u001b[0m\u001b[1;33m(\u001b[0m\u001b[0mself\u001b[0m\u001b[1;33m)\u001b[0m\u001b[1;33m:\u001b[0m\u001b[1;33m\u001b[0m\u001b[1;33m\u001b[0m\u001b[0m\n",
      "\u001b[1;32mC:\\ProgramData\\Anaconda3\\lib\\tkinter\\__init__.py\u001b[0m in \u001b[0;36m__init__\u001b[1;34m(self, master, widgetName, cnf, kw, extra)\u001b[0m\n\u001b[0;32m   2297\u001b[0m             \u001b[1;32mdel\u001b[0m \u001b[0mcnf\u001b[0m\u001b[1;33m[\u001b[0m\u001b[0mk\u001b[0m\u001b[1;33m]\u001b[0m\u001b[1;33m\u001b[0m\u001b[1;33m\u001b[0m\u001b[0m\n\u001b[0;32m   2298\u001b[0m         self.tk.call(\n\u001b[1;32m-> 2299\u001b[1;33m             (widgetName, self._w) + extra + self._options(cnf))\n\u001b[0m\u001b[0;32m   2300\u001b[0m         \u001b[1;32mfor\u001b[0m \u001b[0mk\u001b[0m\u001b[1;33m,\u001b[0m \u001b[0mv\u001b[0m \u001b[1;32min\u001b[0m \u001b[0mclasses\u001b[0m\u001b[1;33m:\u001b[0m\u001b[1;33m\u001b[0m\u001b[1;33m\u001b[0m\u001b[0m\n\u001b[0;32m   2301\u001b[0m             \u001b[0mk\u001b[0m\u001b[1;33m.\u001b[0m\u001b[0mconfigure\u001b[0m\u001b[1;33m(\u001b[0m\u001b[0mself\u001b[0m\u001b[1;33m,\u001b[0m \u001b[0mv\u001b[0m\u001b[1;33m)\u001b[0m\u001b[1;33m\u001b[0m\u001b[1;33m\u001b[0m\u001b[0m\n",
      "\u001b[1;31mTclError\u001b[0m: image \"pyimage2\" doesn't exist"
     ]
    }
   ],
   "source": [
    "def center(win):\n",
    "    \"\"\"\n",
    "    centers a tkinter window\n",
    "    :param win: the root or Toplevel window to center\n",
    "    \"\"\"\n",
    "    win.update_idletasks()\n",
    "    width = win.winfo_width()\n",
    "    frm_width = win.winfo_rootx() - win.winfo_x()\n",
    "    win_width = width + 2 * frm_width\n",
    "    height = win.winfo_height()\n",
    "    titlebar_height = win.winfo_rooty() - win.winfo_y()\n",
    "    win_height = height + titlebar_height + frm_width\n",
    "    x = win.winfo_screenwidth() // 2 - win_width // 2\n",
    "    y = win.winfo_screenheight() // 2 - win_height // 2\n",
    "    win.geometry('{}x{}+{}+{}'.format(width, height, x, y))\n",
    "    win.deiconify()\n",
    "\n",
    "path=\"\"\n",
    "lang=\"\"\n",
    "\n",
    "def execute():\n",
    "    global path\n",
    "    global lang\n",
    "    #global data\n",
    "    root.geometry(\"900x650\")\n",
    "    root.title(\"IPL Data Dashboard\")\n",
    "    root.configure(background=\"#FEE12B\")\n",
    "    root.geometry(\"+300+15\")\n",
    "    \n",
    "    lab = Label(root, text = \"Welcome to IPL Data Dashboard!\", font = ('Veranda',20, 'bold'), borderwidth = 4,bg=\"#FEE12B\", fg = \"darkblue\").grid(row = 0, column = 0)\n",
    "\n",
    "    #Button for PLOT1\n",
    "    fp1 = open(\"plot4.png\",\"rb\")\n",
    "    img1=PIL.Image.open(fp1)\n",
    "    img1 = img1.resize((120,120))\n",
    "    imgbtn1 = ImageTk.PhotoImage(img1)\n",
    "    lab1 = Label(root, text = 'Best Team', bg = \"salmon\", font = ('Veranda', 9), borderwidth = 2).grid(row = 1, column = 0)\n",
    "    b1 = Button(root, image = imgbtn1, compound = TOP, bg = \"black\",command=team)\n",
    "    b1.image = imgbtn1\n",
    "    b1.grid(row=2,column=0, pady = 20, padx = 20)\n",
    "\n",
    "    #Button for PLOT2\n",
    "    fp2 = open(r\"plot5.png\",\"rb\")\n",
    "    img2=PIL.Image.open(fp2)\n",
    "    img2 = img2.resize((120,120))\n",
    "    imgbtn2 = ImageTk.PhotoImage(img2)\n",
    "    lab2 = Label(root, text = 'Best Players', bg = \"salmon\", font = ('Veranda', 9), borderwidth = 2).grid(row = 1, column = 1)\n",
    "    b2 = Button(root, image = imgbtn2, compound = TOP, bg = \"black\",command=play)\n",
    "    b2.image = imgbtn2\n",
    "    b2.grid(row=2,column=1, pady = 20, padx = 20)\n",
    "\n",
    "    #Button for PLOT3\n",
    "    fp4= open(r\"plot6.png\",\"rb\")\n",
    "    img4=PIL.Image.open(fp4)\n",
    "    img4 = img4.resize((120,120))\n",
    "    imgbtn4 = ImageTk.PhotoImage(img4)\n",
    "    lab4 = Label(root, text = \"Factors for win\", bg = \"salmon\", font = ('Veranda', 9), borderwidth = 2).grid(row = 3, column = 0)\n",
    "    b4 = Button(root, image = imgbtn4, compound = TOP, bg = \"black\",command=fact)\n",
    "    b4.image = imgbtn4\n",
    "    b4.grid(row=4,column=0, pady = 20, padx = 20)\n",
    "\n",
    "    #Button for PLOT4\n",
    "    fp3= open(r\"plot6_1.png\",\"rb\")\n",
    "    img3=PIL.Image.open(fp3)\n",
    "    img3 = img3.resize((120,120))\n",
    "    imgbtn3 = ImageTk.PhotoImage(img3)\n",
    "    lab3 = Label(root, text = 'Team Analysis', bg = \"salmon\", font = ('Veranda', 9), borderwidth = 2, padx = 10).grid(row = 3, column = 1)\n",
    "    b3 = Button(root, image = imgbtn3, compound = TOP, bg = \"black\",command=study)\n",
    "    b3.image = imgbtn3\n",
    "    b3.grid(row=4,column=1, pady = 20, padx = 20)\n",
    "\n",
    "from tkinter import Tk, Button, Entry, Label\n",
    "root = Tk()\n",
    "execute()\n",
    "root.mainloop()"
   ]
  },
  {
   "cell_type": "code",
   "execution_count": null,
   "metadata": {},
   "outputs": [],
   "source": []
  },
  {
   "cell_type": "code",
   "execution_count": null,
   "metadata": {},
   "outputs": [],
   "source": []
  },
  {
   "cell_type": "code",
   "execution_count": null,
   "metadata": {},
   "outputs": [],
   "source": []
  },
  {
   "cell_type": "code",
   "execution_count": null,
   "metadata": {},
   "outputs": [],
   "source": []
  },
  {
   "cell_type": "code",
   "execution_count": null,
   "metadata": {},
   "outputs": [],
   "source": []
  }
 ],
 "metadata": {
  "kernelspec": {
   "display_name": "Python 3",
   "language": "python",
   "name": "python3"
  },
  "language_info": {
   "codemirror_mode": {
    "name": "ipython",
    "version": 3
   },
   "file_extension": ".py",
   "mimetype": "text/x-python",
   "name": "python",
   "nbconvert_exporter": "python",
   "pygments_lexer": "ipython3",
   "version": "3.7.3"
  }
 },
 "nbformat": 4,
 "nbformat_minor": 2
}
